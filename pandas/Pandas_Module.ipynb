{
 "cells": [
  {
   "cell_type": "code",
   "execution_count": null,
   "metadata": {},
   "outputs": [],
   "source": [
    "import pandas as pd\n",
    "import codecademylib3 as  cl"
   ]
  }
 ],
 "metadata": {
  "kernelspec": {
   "display_name": "Python 3.9.1 64-bit",
   "language": "python",
   "name": "python3"
  },
  "language_info": {
   "name": "python",
   "version": "3.9.1"
  },
  "orig_nbformat": 4,
  "vscode": {
   "interpreter": {
    "hash": "09cd7a4f969d2ad8792d645d076315f55c94d3977407f85687fca56e114cf945"
   }
  }
 },
 "nbformat": 4,
 "nbformat_minor": 2
}
